{
 "cells": [
  {
   "cell_type": "markdown",
   "id": "8a77807f92f26ee",
   "metadata": {},
   "source": [
    "# This is a sample Jupyter Notebook\n",
    "\n",
    "Below is an example of a code cell. \n",
    "Put your cursor into the cell and press Shift+Enter to execute it and select the next one, or click 'Run Cell' button.\n",
    "\n",
    "Press Double Shift to search everywhere for classes, files, tool windows, actions, and settings.\n",
    "\n",
    "To learn more about Jupyter Notebooks in PyCharm, see [help](https://www.jetbrains.com/help/pycharm/ipython-notebook-support.html).\n",
    "For an overview of PyCharm, go to Help -> Learn IDE features or refer to [our documentation](https://www.jetbrains.com/help/pycharm/getting-started.html)."
   ]
  },
  {
   "cell_type": "code",
   "execution_count": 13,
   "id": "fbc121e30a2defb3",
   "metadata": {
    "ExecuteTime": {
     "end_time": "2024-12-11T11:29:47.744026Z",
     "start_time": "2024-12-11T11:29:47.736024Z"
    }
   },
   "outputs": [
    {
     "name": "stdout",
     "output_type": "stream",
     "text": [
      "Hello World!\n"
     ]
    }
   ],
   "source": [
    "print(\"Hello World!\")"
   ]
  },
  {
   "cell_type": "code",
   "execution_count": 14,
   "id": "bcb9f382abf98949",
   "metadata": {
    "ExecuteTime": {
     "end_time": "2024-12-11T11:30:00.581380Z",
     "start_time": "2024-12-11T11:29:57.059813Z"
    }
   },
   "outputs": [],
   "source": [
    "import numpy as np\n",
    "import torch\n",
    "from sklearn.metrics import accuracy_score, classification_report, f1_score, precision_score, recall_score\n",
    "from sklearn.model_selection import train_test_split\n",
    "from sklearn.neighbors import KNeighborsClassifier\n",
    "from sklearn.svm import SVC\n",
    "from torch.utils.data import DataLoader, TensorDataset\n",
    "import torch.nn.functional as F\n",
    "from data import load_and_preprocess_data\n",
    "from model_setup import get_model\n",
    "import os\n",
    "from torchvision.transforms import Compose, Resize, ToTensor\n",
    "from PIL import Image, ImageDraw, ImageFont"
   ]
  },
  {
   "cell_type": "code",
   "execution_count": 15,
   "id": "a46b25ad9102ef01",
   "metadata": {
    "ExecuteTime": {
     "end_time": "2024-12-11T11:30:03.466148Z",
     "start_time": "2024-12-11T11:30:03.459835Z"
    }
   },
   "outputs": [],
   "source": [
    "# 训练 PyTorch 模型的函数\n",
    "def train_torch_model(model, train_loader, val_loader, epochs=10, lr=0.001):\n",
    "    \"\"\"\n",
    "    训练 PyTorch 模型。\n",
    "\n",
    "    参数：\n",
    "    - model: 要训练的 PyTorch 模型。\n",
    "    - train_loader: 用于训练的数据加载器。\n",
    "    - val_loader: 用于验证的数据加载器。\n",
    "    - epochs: 训练的总轮数，默认为 10。\n",
    "    - lr: 学习率，默认为 0.001。\n",
    "\n",
    "    返回：\n",
    "    - metrics: 包含验证集的评价指标（准确率、精确率、召回率、F1分数）。\n",
    "    \"\"\"\n",
    "    optimizer = torch.optim.Adam(model.parameters(), lr=lr)  # 使用 Adam 优化器\n",
    "    criterion = torch.nn.CrossEntropyLoss()  # 使用交叉熵损失函数\n",
    "\n",
    "    for epoch in range(epochs):\n",
    "        model.train()\n",
    "        train_loss = 0\n",
    "        for inputs, labels in train_loader:\n",
    "            optimizer.zero_grad()\n",
    "            outputs = model(inputs)\n",
    "            loss = criterion(outputs, labels)\n",
    "            loss.backward()\n",
    "            optimizer.step()\n",
    "            train_loss += loss.item()\n",
    "\n",
    "        print(f\"Epoch {epoch + 1}/{epochs}, Loss: {train_loss / len(train_loader):.4f}\")\n",
    "\n",
    "    # 在验证集上评估模型\n",
    "    model.eval()\n",
    "    val_preds, val_targets = [], []\n",
    "    with torch.no_grad():\n",
    "        for inputs, labels in val_loader:\n",
    "            outputs = model(inputs)\n",
    "            preds = torch.argmax(outputs, dim=1)\n",
    "            val_preds.extend(preds.cpu().numpy())\n",
    "            val_targets.extend(labels.cpu().numpy())\n",
    "\n",
    "    # 计算评价指标\n",
    "    accuracy = accuracy_score(val_targets, val_preds)  # 准确率\n",
    "    precision = precision_score(val_targets, val_preds, average='weighted')  # 精确率\n",
    "    recall = recall_score(val_targets, val_preds, average='weighted')  # 召回率\n",
    "    f1 = f1_score(val_targets, val_preds, average='weighted')  # F1 分数\n",
    "\n",
    "    metrics = {\n",
    "        \"accuracy\": accuracy,\n",
    "        \"precision\": precision,\n",
    "        \"recall\": recall,\n",
    "        \"f1\": f1\n",
    "    }\n",
    "\n",
    "    print(\"Validation Metrics:\")\n",
    "    for key, value in metrics.items():\n",
    "        print(f\"{key.capitalize()}: {value * 100:.2f}%\")\n",
    "\n",
    "    return metrics"
   ]
  },
  {
   "cell_type": "code",
   "execution_count": 16,
   "id": "7f763092458b53d1",
   "metadata": {
    "ExecuteTime": {
     "end_time": "2024-12-11T11:30:07.338444Z",
     "start_time": "2024-12-11T11:30:07.333446Z"
    }
   },
   "outputs": [],
   "source": [
    "def train_non_torch_model(model, x_train, y_train, x_val, y_val):\n",
    "    \"\"\"\n",
    "    训练非 PyTorch 模型（KNN 或 SVM）。\n",
    "\n",
    "    参数：\n",
    "    - model: sklearn 模型（KNN 或 SVM）。\n",
    "    - x_train: 训练集特征。\n",
    "    - y_train: 训练集标签。\n",
    "    - x_val: 验证集特征。\n",
    "    - y_val: 验证集标签。\n",
    "\n",
    "    返回：\n",
    "    - metrics: 包含验证集的评价指标（准确率、精确率、召回率、F1分数）。\n",
    "    \"\"\"\n",
    "    model.fit(x_train, y_train)  # 训练模型\n",
    "    val_preds = model.predict(x_val)  # 在验证集上预测\n",
    "\n",
    "    # 计算评价指标\n",
    "    accuracy = accuracy_score(y_val, val_preds)  # 准确率\n",
    "    precision = precision_score(y_val, val_preds, average='weighted')  # 精确率\n",
    "    recall = recall_score(y_val, val_preds, average='weighted')  # 召回率\n",
    "    f1 = f1_score(y_val, val_preds, average='weighted')  # F1 分数\n",
    "\n",
    "    metrics = {\n",
    "        \"accuracy\": accuracy,\n",
    "        \"precision\": precision,\n",
    "        \"recall\": recall,\n",
    "        \"f1\": f1\n",
    "    }\n",
    "\n",
    "    print(\"Validation Metrics:\")\n",
    "    for key, value in metrics.items():\n",
    "        print(f\"{key.capitalize()}: {value * 100:.2f}%\")\n",
    "\n",
    "    return metrics"
   ]
  },
  {
   "cell_type": "code",
   "execution_count": 17,
   "id": "e62cbd8a4e3f74d5",
   "metadata": {
    "ExecuteTime": {
     "end_time": "2024-12-11T11:30:10.467148Z",
     "start_time": "2024-12-11T11:30:10.461186Z"
    }
   },
   "outputs": [],
   "source": [
    "# 识别并写入图片的函数\n",
    "def recognize_and_annotate_images(model, folder_path, output_folder, transform, device):\n",
    "    \"\"\"\n",
    "    识别文件夹中的数字或字母，并将识别结果写入图片。\n",
    "\n",
    "    参数：\n",
    "    - model: 预训练的 PyTorch 模型。\n",
    "    - folder_path: 包含图片的文件夹路径。\n",
    "    - output_folder: 保存注释后图片的文件夹路径。\n",
    "    - transform: 对图片进行预处理的转换操作。\n",
    "    - device: 使用的设备（CPU 或 GPU）。\n",
    "    \"\"\"\n",
    "    os.makedirs(output_folder, exist_ok=True)  # 确保输出文件夹存在\n",
    "\n",
    "    for filename in os.listdir(folder_path):\n",
    "        if filename.endswith(('.png', '.jpg', '.jpeg')):\n",
    "            image_path = os.path.join(folder_path, filename)\n",
    "            image = Image.open(image_path).convert('RGB')  # 转换为 RGB 格式\n",
    "            original_image = image.copy()  # 保留原始图像用于绘制\n",
    "\n",
    "            # 预处理图片\n",
    "            processed_image = transform(image).unsqueeze(0).to(device)\n",
    "\n",
    "            # 使用模型预测\n",
    "            model.eval()\n",
    "            with torch.no_grad():\n",
    "                outputs = model(processed_image)\n",
    "                predicted = torch.argmax(outputs, dim=1).item()\n",
    "\n",
    "            # 在图片上写入识别结果\n",
    "            draw = ImageDraw.Draw(original_image)\n",
    "            font = ImageFont.load_default()  # 使用默认字体\n",
    "            text = f\"{predicted}\"  # 识别结果\n",
    "            draw.text((10, 10), text, fill=(255, 0, 0), font=font)  # 在左上角写入文字\n",
    "\n",
    "            # 保存图片到输出文件夹\n",
    "            output_path = os.path.join(output_folder, filename)\n",
    "            original_image.save(output_path)\n",
    "            print(f\"Processed and saved: {output_path}\")"
   ]
  },
  {
   "cell_type": "code",
   "execution_count": 18,
   "id": "720a2532a43f5e82",
   "metadata": {
    "ExecuteTime": {
     "end_time": "2024-12-11T11:31:45.477235Z",
     "start_time": "2024-12-11T11:30:15.329319Z"
    },
    "scrolled": false
   },
   "outputs": [
    {
     "ename": "RuntimeError",
     "evalue": "[enforce fail at C:\\cb\\pytorch_1000000000000\\work\\c10\\core\\impl\\alloc_cpu.cpp:72] data. DefaultCPUAllocator: not enough memory: you tried to allocate 2553503680 bytes.",
     "output_type": "error",
     "traceback": [
      "\u001b[1;31m---------------------------------------------------------------------------\u001b[0m",
      "\u001b[1;31mRuntimeError\u001b[0m                              Traceback (most recent call last)",
      "Cell \u001b[1;32mIn[18], line 3\u001b[0m\n\u001b[0;32m      1\u001b[0m \u001b[38;5;28;01mif\u001b[39;00m \u001b[38;5;18m__name__\u001b[39m \u001b[38;5;241m==\u001b[39m \u001b[38;5;124m\"\u001b[39m\u001b[38;5;124m__main__\u001b[39m\u001b[38;5;124m\"\u001b[39m:\n\u001b[0;32m      2\u001b[0m     \u001b[38;5;66;03m# 加载并预处理数据\u001b[39;00m\n\u001b[1;32m----> 3\u001b[0m     x_min_max, x_mean, y, kf_splits \u001b[38;5;241m=\u001b[39m \u001b[43mload_and_preprocess_data\u001b[49m\u001b[43m(\u001b[49m\u001b[43m)\u001b[49m\n\u001b[0;32m      5\u001b[0m     \u001b[38;5;66;03m# 选择一组 K 折数据进行训练和验证\u001b[39;00m\n\u001b[0;32m      6\u001b[0m     train_idx, val_idx \u001b[38;5;241m=\u001b[39m kf_splits[\u001b[38;5;241m0\u001b[39m]\n",
      "File \u001b[1;32m~\\Desktop\\OCR-main\\data\\data_processing_torch.py:29\u001b[0m, in \u001b[0;36mload_and_preprocess_data\u001b[1;34m()\u001b[0m\n\u001b[0;32m     27\u001b[0m mean \u001b[38;5;241m=\u001b[39m torch\u001b[38;5;241m.\u001b[39mmean(x, dim\u001b[38;5;241m=\u001b[39m(\u001b[38;5;241m1\u001b[39m, \u001b[38;5;241m2\u001b[39m), keepdim\u001b[38;5;241m=\u001b[39m\u001b[38;5;28;01mTrue\u001b[39;00m)\n\u001b[0;32m     28\u001b[0m std \u001b[38;5;241m=\u001b[39m torch\u001b[38;5;241m.\u001b[39mstd(x, dim\u001b[38;5;241m=\u001b[39m(\u001b[38;5;241m1\u001b[39m, \u001b[38;5;241m2\u001b[39m), keepdim\u001b[38;5;241m=\u001b[39m\u001b[38;5;28;01mTrue\u001b[39;00m) \u001b[38;5;241m+\u001b[39m \u001b[38;5;241m1e-8\u001b[39m\n\u001b[1;32m---> 29\u001b[0m x_mean \u001b[38;5;241m=\u001b[39m (\u001b[43mx\u001b[49m\u001b[43m \u001b[49m\u001b[38;5;241;43m-\u001b[39;49m\u001b[43m \u001b[49m\u001b[43mmean\u001b[49m) \u001b[38;5;241m/\u001b[39m std\n\u001b[0;32m     31\u001b[0m \u001b[38;5;66;03m# Step 3: Prepare K-fold splitting\u001b[39;00m\n\u001b[0;32m     32\u001b[0m kf \u001b[38;5;241m=\u001b[39m KFold(n_splits\u001b[38;5;241m=\u001b[39m\u001b[38;5;241m5\u001b[39m, shuffle\u001b[38;5;241m=\u001b[39m\u001b[38;5;28;01mTrue\u001b[39;00m, random_state\u001b[38;5;241m=\u001b[39m\u001b[38;5;241m42\u001b[39m)\n",
      "\u001b[1;31mRuntimeError\u001b[0m: [enforce fail at C:\\cb\\pytorch_1000000000000\\work\\c10\\core\\impl\\alloc_cpu.cpp:72] data. DefaultCPUAllocator: not enough memory: you tried to allocate 2553503680 bytes."
     ]
    }
   ],
   "source": [
    "if __name__ == \"__main__\":\n",
    "    # 加载并预处理数据\n",
    "    x_min_max, x_mean, y, kf_splits = load_and_preprocess_data()\n",
    "\n",
    "    # 选择一组 K 折数据进行训练和验证\n",
    "    train_idx, val_idx = kf_splits[0]\n",
    "    x_train, x_val = x_min_max[train_idx], x_min_max[val_idx]\n",
    "    y_train, y_val = y[train_idx], y[val_idx]\n",
    "        # 初始化模型\n",
    "    model_name = input(\"请输入要使用的模型 (torch_cnn/knn/svm): \").strip().lower()\n",
    "    model = get_model(model_name)\n",
    "\n",
    "    if isinstance(model, torch.nn.Module):  # 判断是否为 PyTorch 模型\n",
    "        # 转换为 PyTorch 张量\n",
    "        x_train_tensor = torch.tensor(x_train).float().unsqueeze(1)  # 添加通道维度\n",
    "        x_val_tensor = torch.tensor(x_val).float().unsqueeze(1)\n",
    "        y_train_tensor = torch.tensor(y_train).long()\n",
    "        y_val_tensor = torch.tensor(y_val).long()\n",
    "\n",
    "        # 创建 DataLoader\n",
    "        train_dataset = TensorDataset(x_train_tensor, y_train_tensor)\n",
    "        val_dataset = TensorDataset(x_val_tensor, y_val_tensor)\n",
    "        train_loader = DataLoader(train_dataset, batch_size=32, shuffle=True)  # 批大小为 32\n",
    "        val_loader = DataLoader(val_dataset, batch_size=32)\n",
    "\n",
    "        # 训练 PyTorch 模型\n",
    "        device = torch.device(\"cpu\")\n",
    "        model.to(device)\n",
    "        metrics = train_torch_model(model, train_loader, val_loader, epochs=5)  # 训练 5 个轮次\n",
    "\n",
    "    else:\n",
    "        # 非 PyTorch 模型（如 KNN 或 SVM）\n",
    "        metrics = train_non_torch_model(model, x_train.reshape(len(x_train), -1), y_train,\n",
    "                                        x_val.reshape(len(x_val), -1), y_val)\n",
    "\n",
    "    # 输出最终验证集评价指标\n",
    "    print(\"Final Validation Metrics:\")\n",
    "    for key, value in metrics.items():\n",
    "        print(f\"{key.capitalize()}: {value * 100:.2f}%\")\n",
    "\n",
    "    # 可选：识别 upload 文件夹中的图片，并保存带注释的图片\n",
    "    recognize_option = input(\"是否识别 upload 文件夹中的图片并保存结果？(yes/no): \").strip().lower()\n",
    "    if recognize_option == \"yes\":\n",
    "        upload_folder = \"./upload\"  # upload 文件夹路径\n",
    "        output_folder = \"./output\"  # output 文件夹路径\n",
    "        transform = Compose([\n",
    "            Resize((64, 64)),  # 将图片调整为 64x64\n",
    "            ToTensor()        # 转换为 PyTorch 张量\n",
    "        ])\n",
    "        recognize_and_annotate_images(model, upload_folder, output_folder, transform, device)"
   ]
  },
  {
   "cell_type": "code",
   "execution_count": null,
   "id": "aea833cb",
   "metadata": {},
   "outputs": [],
   "source": []
  },
  {
   "cell_type": "code",
   "execution_count": null,
   "id": "0400521b",
   "metadata": {},
   "outputs": [],
   "source": []
  }
 ],
 "metadata": {
  "kernelspec": {
   "display_name": "Python 3 (ipykernel)",
   "language": "python",
   "name": "python3"
  },
  "language_info": {
   "codemirror_mode": {
    "name": "ipython",
    "version": 3
   },
   "file_extension": ".py",
   "mimetype": "text/x-python",
   "name": "python",
   "nbconvert_exporter": "python",
   "pygments_lexer": "ipython3",
   "version": "3.9.17"
  }
 },
 "nbformat": 4,
 "nbformat_minor": 5
}
